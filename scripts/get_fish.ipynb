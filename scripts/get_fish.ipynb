{
 "cells": [
  {
   "cell_type": "code",
   "execution_count": null,
   "metadata": {},
   "outputs": [],
   "source": [
    "import csv\n",
    "import functools\n",
    "import requests\n",
    "from bs4 import BeautifulSoup as bs\n",
    "from typing import *\n",
    "import os\n"
   ]
  },
  {
   "cell_type": "code",
   "execution_count": null,
   "metadata": {
    "scrolled": true
   },
   "outputs": [],
   "source": [
    "    text = requests.get(\"https://animalcrossing.fandom.com/wiki/Fish_(New_Horizons)\").text\n",
    "text"
   ]
  },
  {
   "cell_type": "code",
   "execution_count": null,
   "metadata": {
    "scrolled": true
   },
   "outputs": [],
   "source": [
    "soup = bs(text, \"html.parser\")\n",
    "cells = soup \\\n",
    "  .find('div', title='Northern Hemisphere')  \\\n",
    "  .find('table') \\\n",
    "  .find('table') \\\n",
    "  .find_all('td')\n",
    "\n",
    "cells\n"
   ]
  },
  {
   "cell_type": "code",
   "execution_count": null,
   "metadata": {},
   "outputs": [],
   "source": [
    "header = ['name', 'image', 'price', 'location', 'shadow', 'time', 'jan', 'feb', 'mar', 'apr', 'may', 'jun', 'jul', 'aug', 'sep', 'oct', 'nov', 'dec']\n",
    "header_idx = 0\n",
    "row_idx = 0\n",
    "inc = lambda i : (i + 1) % len(header)\n",
    "\n",
    "names = []\n",
    "for i, cell in enumerate(cells):\n",
    "    index = i % len(header)\n",
    "    if index == 0: # name\n",
    "        names += [{'name': cell.a['title']}]\n",
    "    elif index == 1: # image\n",
    "        names[row_idx] = {**names[row_idx], 'image_url': cell.a['href']}\n",
    "    elif index == 2: # price\n",
    "        names[row_idx] = {**names[row_idx], 'price': int(cell.string)}\n",
    "    elif index == 3: # location\n",
    "        names[row_idx] = {**names[row_idx], 'location': cell.string.strip()} \n",
    "    elif index == 4: # shadow\n",
    "        names[row_idx] = {**names[row_idx], 'shadow': cell.string.strip()} \n",
    "    elif index == 5: # time\n",
    "        names[row_idx] = {**names[row_idx], 'time': cell.small.string.strip()} \n",
    "    elif index == 6:\n",
    "        pass\n",
    "    elif index == 7:\n",
    "        pass\n",
    "    elif index == 8:\n",
    "        pass\n",
    "    elif index == 9:\n",
    "        pass\n",
    "    elif index == 10:\n",
    "        pass\n",
    "    elif index == 11:\n",
    "        pass\n",
    "    elif index == 12:\n",
    "        pass\n",
    "    elif index == 13:\n",
    "        pass\n",
    "    elif index == 14:\n",
    "        pass\n",
    "    elif index == 15:\n",
    "        pass\n",
    "    elif index == 16:\n",
    "        row_idx += 1\n",
    "\n",
    "    header_idx = inc(header_idx)\n",
    "    \n",
    "from uuid import uuid4\n",
    "bugs = list(map(lambda d: {'uuid': str(uuid4()), **d}, names))"
   ]
  },
  {
   "cell_type": "code",
   "execution_count": null,
   "metadata": {},
   "outputs": [],
   "source": [
    "bugs\n"
   ]
  },
  {
   "cell_type": "code",
   "execution_count": null,
   "metadata": {},
   "outputs": [],
   "source": [
    "from PIL import Image\n",
    "from io import BytesIO\n",
    "import re\n",
    "\n",
    "pattern = re.compile(r\"https:\\/\\/vignette\\.wikia\\.nocookie\\.net\\/animalcrossing\\/images\\/(.*\\.png)\\/\")\n",
    "\n",
    "for b in bugs:\n",
    "    content = requests.get(b['image_url']).content\n",
    "    icon_file_name = pattern.match(b['image_url'])[1].replace('/', '-')\n",
    "    i = Image.open(BytesIO(content))\n",
    "    with open('../resources/images/' + icon_file_name, 'wb') as f:\n",
    "        i.save(f, 'PNG')"
   ]
  },
  {
   "cell_type": "code",
   "execution_count": null,
   "metadata": {},
   "outputs": [],
   "source": [
    "import json\n",
    "new_bugs = [{**d, 'image_name': pattern.match(d['image_url'])[1].replace('/', '-')} for d in bugs]\n",
    "with open('../resources/fish.json', 'w') as f:\n",
    "    json.dump(new_bugs, f, indent=2)\n"
   ]
  }
 ],
 "metadata": {
  "kernelspec": {
   "display_name": "Python 3",
   "language": "python",
   "name": "python3"
  },
  "language_info": {
   "codemirror_mode": {
    "name": "ipython",
    "version": 3
   },
   "file_extension": ".py",
   "mimetype": "text/x-python",
   "name": "python",
   "nbconvert_exporter": "python",
   "pygments_lexer": "ipython3",
   "version": "3.8.2"
  }
 },
 "nbformat": 4,
 "nbformat_minor": 4
}