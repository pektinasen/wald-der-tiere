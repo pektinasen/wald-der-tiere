{
 "nbformat": 4,
 "nbformat_minor": 2,
 "metadata": {
  "language_info": {
   "name": "python",
   "codemirror_mode": {
    "name": "ipython",
    "version": 3
   },
   "version": "3.8.2-final"
  },
  "orig_nbformat": 2,
  "file_extension": ".py",
  "mimetype": "text/x-python",
  "name": "python",
  "npconvert_exporter": "python",
  "pygments_lexer": "ipython3",
  "version": 3,
  "kernelspec": {
   "name": "python38264bit5fc88e9484d24366922185764743f5a6",
   "display_name": "Python 3.8.2 64-bit"
  }
 },
 "cells": [
  {
   "cell_type": "code",
   "execution_count": 67,
   "metadata": {},
   "outputs": [
    {
     "output_type": "execute_result",
     "data": {
      "text/plain": "'<!doctype html>\\n<html lang=\"en\" dir=\"ltr\" class=\"\">\\n<head>\\n\\n<meta http-equiv=\"Content-Type\" content='"
     },
     "metadata": {},
     "execution_count": 67
    }
   ],
   "source": [
    "import requests\n",
    "\n",
    "content = requests.get(\"https://animalcrossing.fandom.com/wiki/Bitterling\").text\n",
    "\n",
    "content[0:100]"
   ]
  },
  {
   "cell_type": "code",
   "execution_count": 69,
   "metadata": {},
   "outputs": [],
   "source": [
    "import csv\n",
    "import functools\n",
    "from bs4 import BeautifulSoup as bs\n",
    "from typing import *\n",
    "import os"
   ]
  },
  {
   "cell_type": "code",
   "execution_count": 70,
   "metadata": {
    "tags": [
     "outputPrepend"
    ]
   },
   "outputs": [
    {
     "output_type": "stream",
     "name": "stdout",
     "text": "None\n"
    }
   ],
   "source": [
    "soup = bs(content, 'html.parser')\n",
    "print(soup.original_encoding)"
   ]
  },
  {
   "cell_type": "code",
   "execution_count": 81,
   "metadata": {},
   "outputs": [
    {
     "output_type": "stream",
     "name": "stdout",
     "text": "['Japanese', 'タナゴ Tanago']\n['French', 'Bouvière']\n['Spanish', 'Amarguillo']\n['German', 'Bitterling']\n['Italian', 'Rodeo']\n['Dutch', 'Bittervoorn']\n['Chinese', '红目鲫 Hóngmùjì']\n['Korean', '납줄개 Napjulgae']\n"
    }
   ],
   "source": [
    "\n",
    "h2s = soup.find_all(\"h2\")\n",
    "# There is a part with a heading which has a span that has this id\n",
    "in_other_languages = list(filter(lambda h2: h2.span.get('id', \"\") == \"In_other_languages\" if h2.span is not None else False, h2s))\n",
    "\n",
    "for h2 in in_other_languages:\n",
    "  # its a table in table\n",
    "  table = h2.find_next_sibling('table')\n",
    "  inner_table = table.find('table')\n",
    "  # which has rows, but we skip the first because it has the inner table header: language, name\n",
    "  trs = inner_table.find_all('tr')[1:]\n",
    "  # extract the text from the next rows\n",
    "  for tr in trs:\n",
    "      print([(list(filter(lambda f: f != '', map(lambda e: str(e).strip(), tr.td.contents)))[1])\n",
    "      ,(' '.join(filter(lambda f: f != '', map(lambda e: str(e).strip(), tr.find_all('td')[1].strings))))])\n"
   ]
  }
 ]
}